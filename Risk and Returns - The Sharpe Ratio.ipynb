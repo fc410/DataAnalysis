{
 "cells": [
  {
   "cell_type": "code",
   "execution_count": null,
   "id": "55dd403e",
   "metadata": {},
   "outputs": [],
   "source": []
  },
  {
   "cell_type": "code",
   "execution_count": 1,
   "id": "c1c337f2",
   "metadata": {},
   "outputs": [],
   "source": [
    "# Import required libraries\n",
    "import pandas as pd\n",
    "import numpy as np\n",
    "import matplotlib.pyplot as plt"
   ]
  },
  {
   "cell_type": "code",
   "execution_count": 2,
   "id": "f7d649d1",
   "metadata": {},
   "outputs": [],
   "source": [
    "# Settings to produce nice plots in a Jupyter notebook\n",
    "plt.style.use('fivethirtyeight')\n",
    "%matplotlib inline"
   ]
  },
  {
   "cell_type": "code",
   "execution_count": 3,
   "id": "a25c314a",
   "metadata": {},
   "outputs": [],
   "source": [
    "# Reading the data \n",
    "df = pd.read_csv(\"datasets/RisksAndReturns/stock_data.csv\")\n",
    "stock_data = pd.read_csv('datasets/RisksAndReturns/stock_data.csv')\n",
    "benchmark_data = pd.read_csv('datasets/RisksAndReturns/benchmark_data.csv') \n"
   ]
  },
  {
   "cell_type": "markdown",
   "id": "800c4291",
   "metadata": {},
   "source": [
    "# 2. A first glance at the data\n",
    "Let's take a look the data to find out how many observations and variables we have at our disposal."
   ]
  },
  {
   "cell_type": "code",
   "execution_count": 4,
   "id": "90a24c62",
   "metadata": {},
   "outputs": [
    {
     "name": "stdout",
     "output_type": "stream",
     "text": [
      "                       Stock Data\n",
      "         Date      Amazon    Facebook\n",
      "0  2016-01-04  636.989990  102.220001\n",
      "1  2016-01-05  633.789978  102.730003\n",
      "2  2016-01-06  632.650024  102.970001\n",
      "3  2016-01-07  607.940002   97.919998\n",
      "4  2016-01-08  607.049988   97.330002\n",
      "\n",
      "                       S&P 500 Stock Data\n",
      "         Date  S&P 500\n",
      "0  2016-01-01      NaN\n",
      "1  2016-01-04  2012.66\n",
      "2  2016-01-05  2016.71\n",
      "3  2016-01-06  1990.26\n",
      "4  2016-01-07  1943.09\n"
     ]
    }
   ],
   "source": [
    "# Display the data\n",
    "print(\"                       Stock Data\")\n",
    "print(stock_data.head(5))\n",
    "\n",
    "print()\n",
    "\n",
    "print(\"                       S&P 500 Stock Data\")\n",
    "print(benchmark_data.head(5))"
   ]
  },
  {
   "cell_type": "markdown",
   "id": "6f3f635a",
   "metadata": {},
   "source": [
    "# 3. Plot & summarize daily prices for Amazon and Facebook\n",
    "Before we compare an investment in either Facebook or Amazon with the index of the 500 largest companies in the US, let's visualize the data, so we better understand what we're dealing with."
   ]
  },
  {
   "cell_type": "code",
   "execution_count": 5,
   "id": "73f84e93",
   "metadata": {},
   "outputs": [
    {
     "data": {
      "text/plain": [
       "array([<AxesSubplot:>, <AxesSubplot:>], dtype=object)"
      ]
     },
     "execution_count": 5,
     "metadata": {},
     "output_type": "execute_result"
    },
    {
     "data": {
      "image/png": "[encoded data removed]",
      "text/plain": [
       "<Figure size 432x288 with 2 Axes>"
      ]
     },
     "metadata": {
      "needs_background": "light"
     },
     "output_type": "display_data"
    }
   ],
   "source": [
    "# visualize the stock_data\n",
    "stock_data.plot(subplots=True, title='Stock Data')"
   ]
  },
  {
   "cell_type": "code",
   "execution_count": 6,
   "id": "ee3ac3d8",
   "metadata": {
    "scrolled": true
   },
   "outputs": [
    {
     "data": {
      "text/html": [
       "<div>\n",
       "<style scoped>\n",
       "    .dataframe tbody tr th:only-of-type {\n",
       "        vertical-align: middle;\n",
       "    }\n",
       "\n",
       "    .dataframe tbody tr th {\n",
       "        vertical-align: top;\n",
       "    }\n",
       "\n",
       "    .dataframe thead th {\n",
       "        text-align: right;\n",
       "    }\n",
       "</style>\n",
       "<table border=\"1\" class=\"dataframe\">\n",
       "  <thead>\n",
       "    <tr style=\"text-align: right;\">\n",
       "      <th></th>\n",
       "      <th>Amazon</th>\n",
       "      <th>Facebook</th>\n",
       "    </tr>\n",
       "  </thead>\n",
       "  <tbody>\n",
       "    <tr>\n",
       "      <th>count</th>\n",
       "      <td>252.000000</td>\n",
       "      <td>252.000000</td>\n",
       "    </tr>\n",
       "    <tr>\n",
       "      <th>mean</th>\n",
       "      <td>699.523135</td>\n",
       "      <td>117.035873</td>\n",
       "    </tr>\n",
       "    <tr>\n",
       "      <th>std</th>\n",
       "      <td>92.362312</td>\n",
       "      <td>8.899858</td>\n",
       "    </tr>\n",
       "    <tr>\n",
       "      <th>min</th>\n",
       "      <td>482.070007</td>\n",
       "      <td>94.160004</td>\n",
       "    </tr>\n",
       "    <tr>\n",
       "      <th>25%</th>\n",
       "      <td>606.929993</td>\n",
       "      <td>112.202499</td>\n",
       "    </tr>\n",
       "    <tr>\n",
       "      <th>50%</th>\n",
       "      <td>727.875000</td>\n",
       "      <td>117.765000</td>\n",
       "    </tr>\n",
       "    <tr>\n",
       "      <th>75%</th>\n",
       "      <td>767.882492</td>\n",
       "      <td>123.902502</td>\n",
       "    </tr>\n",
       "    <tr>\n",
       "      <th>max</th>\n",
       "      <td>844.359985</td>\n",
       "      <td>133.279999</td>\n",
       "    </tr>\n",
       "  </tbody>\n",
       "</table>\n",
       "</div>"
      ],
      "text/plain": [
       "           Amazon    Facebook\n",
       "count  252.000000  252.000000\n",
       "mean   699.523135  117.035873\n",
       "std     92.362312    8.899858\n",
       "min    482.070007   94.160004\n",
       "25%    606.929993  112.202499\n",
       "50%    727.875000  117.765000\n",
       "75%    767.882492  123.902502\n",
       "max    844.359985  133.279999"
      ]
     },
     "execution_count": 6,
     "metadata": {},
     "output_type": "execute_result"
    }
   ],
   "source": [
    "# summarize the stock_data\n",
    "stock_data.describe()\n"
   ]
  },
  {
   "cell_type": "markdown",
   "id": "6e6584d1",
   "metadata": {},
   "source": [
    "# 4. Visualize & summarize daily values for the S&P 500\n",
    "Let's also take a closer look at the value of the S&P 500, our benchmark."
   ]
  },
  {
   "cell_type": "code",
   "execution_count": 7,
   "id": "99ec264b",
   "metadata": {},
   "outputs": [
    {
     "data": {
      "text/plain": [
       "<AxesSubplot:>"
      ]
     },
     "execution_count": 7,
     "metadata": {},
     "output_type": "execute_result"
    },
    {
     "data": {
      "image/png": "[encoded data removed]",
      "text/plain": [
       "<Figure size 432x288 with 1 Axes>"
      ]
     },
     "metadata": {
      "needs_background": "light"
     },
     "output_type": "display_data"
    }
   ],
   "source": [
    "# plot the benchmark_data\n",
    "benchmark_data.plot()"
   ]
  },
  {
   "cell_type": "code",
   "execution_count": 8,
   "id": "e7048005",
   "metadata": {
    "scrolled": true
   },
   "outputs": [
    {
     "data": {
      "text/html": [
       "<div>\n",
       "<style scoped>\n",
       "    .dataframe tbody tr th:only-of-type {\n",
       "        vertical-align: middle;\n",
       "    }\n",
       "\n",
       "    .dataframe tbody tr th {\n",
       "        vertical-align: top;\n",
       "    }\n",
       "\n",
       "    .dataframe thead th {\n",
       "        text-align: right;\n",
       "    }\n",
       "</style>\n",
       "<table border=\"1\" class=\"dataframe\">\n",
       "  <thead>\n",
       "    <tr style=\"text-align: right;\">\n",
       "      <th></th>\n",
       "      <th>S&amp;P 500</th>\n",
       "    </tr>\n",
       "  </thead>\n",
       "  <tbody>\n",
       "    <tr>\n",
       "      <th>count</th>\n",
       "      <td>252.000000</td>\n",
       "    </tr>\n",
       "    <tr>\n",
       "      <th>mean</th>\n",
       "      <td>2094.651310</td>\n",
       "    </tr>\n",
       "    <tr>\n",
       "      <th>std</th>\n",
       "      <td>101.427615</td>\n",
       "    </tr>\n",
       "    <tr>\n",
       "      <th>min</th>\n",
       "      <td>1829.080000</td>\n",
       "    </tr>\n",
       "    <tr>\n",
       "      <th>25%</th>\n",
       "      <td>2047.060000</td>\n",
       "    </tr>\n",
       "    <tr>\n",
       "      <th>50%</th>\n",
       "      <td>2104.105000</td>\n",
       "    </tr>\n",
       "    <tr>\n",
       "      <th>75%</th>\n",
       "      <td>2169.075000</td>\n",
       "    </tr>\n",
       "    <tr>\n",
       "      <th>max</th>\n",
       "      <td>2271.720000</td>\n",
       "    </tr>\n",
       "  </tbody>\n",
       "</table>\n",
       "</div>"
      ],
      "text/plain": [
       "           S&P 500\n",
       "count   252.000000\n",
       "mean   2094.651310\n",
       "std     101.427615\n",
       "min    1829.080000\n",
       "25%    2047.060000\n",
       "50%    2104.105000\n",
       "75%    2169.075000\n",
       "max    2271.720000"
      ]
     },
     "execution_count": 8,
     "metadata": {},
     "output_type": "execute_result"
    }
   ],
   "source": [
    "# summarize the benchmark_data\n",
    "benchmark_data.describe()"
   ]
  },
  {
   "cell_type": "markdown",
   "id": "e22dfc90",
   "metadata": {},
   "source": [
    "# 5. The inputs for the Sharpe Ratio: Starting with Daily Stock Returns\n",
    "The Sharpe Ratio uses the difference in returns between the two investment opportunities under consideration.\n",
    "\n",
    "However, our data show the historical value of each investment, not the return. To calculate the return, we need to calculate the percentage change in value from one day to the next. We'll also take a look at the summary statistics because these will become our inputs as we calculate the Sharpe Ratio."
   ]
  },
  {
   "cell_type": "code",
   "execution_count": 9,
   "id": "839629e0",
   "metadata": {},
   "outputs": [
    {
     "data": {
      "text/html": [
       "<div>\n",
       "<style scoped>\n",
       "    .dataframe tbody tr th:only-of-type {\n",
       "        vertical-align: middle;\n",
       "    }\n",
       "\n",
       "    .dataframe tbody tr th {\n",
       "        vertical-align: top;\n",
       "    }\n",
       "\n",
       "    .dataframe thead th {\n",
       "        text-align: right;\n",
       "    }\n",
       "</style>\n",
       "<table border=\"1\" class=\"dataframe\">\n",
       "  <thead>\n",
       "    <tr style=\"text-align: right;\">\n",
       "      <th></th>\n",
       "      <th>Date</th>\n",
       "      <th>Amazon</th>\n",
       "      <th>Facebook</th>\n",
       "    </tr>\n",
       "  </thead>\n",
       "  <tbody>\n",
       "    <tr>\n",
       "      <th>0</th>\n",
       "      <td>2016-01-04</td>\n",
       "      <td>NaN</td>\n",
       "      <td>NaN</td>\n",
       "    </tr>\n",
       "    <tr>\n",
       "      <th>1</th>\n",
       "      <td>2016-01-05</td>\n",
       "      <td>-0.005024</td>\n",
       "      <td>0.004989</td>\n",
       "    </tr>\n",
       "    <tr>\n",
       "      <th>2</th>\n",
       "      <td>2016-01-06</td>\n",
       "      <td>-0.001799</td>\n",
       "      <td>0.002336</td>\n",
       "    </tr>\n",
       "    <tr>\n",
       "      <th>3</th>\n",
       "      <td>2016-01-07</td>\n",
       "      <td>-0.039058</td>\n",
       "      <td>-0.049043</td>\n",
       "    </tr>\n",
       "    <tr>\n",
       "      <th>4</th>\n",
       "      <td>2016-01-08</td>\n",
       "      <td>-0.001464</td>\n",
       "      <td>-0.006025</td>\n",
       "    </tr>\n",
       "    <tr>\n",
       "      <th>...</th>\n",
       "      <td>...</td>\n",
       "      <td>...</td>\n",
       "      <td>...</td>\n",
       "    </tr>\n",
       "    <tr>\n",
       "      <th>247</th>\n",
       "      <td>2016-12-23</td>\n",
       "      <td>-0.007503</td>\n",
       "      <td>-0.001107</td>\n",
       "    </tr>\n",
       "    <tr>\n",
       "      <th>248</th>\n",
       "      <td>2016-12-27</td>\n",
       "      <td>0.014213</td>\n",
       "      <td>0.006310</td>\n",
       "    </tr>\n",
       "    <tr>\n",
       "      <th>249</th>\n",
       "      <td>2016-12-28</td>\n",
       "      <td>0.000946</td>\n",
       "      <td>-0.009237</td>\n",
       "    </tr>\n",
       "    <tr>\n",
       "      <th>250</th>\n",
       "      <td>2016-12-29</td>\n",
       "      <td>-0.009040</td>\n",
       "      <td>-0.004875</td>\n",
       "    </tr>\n",
       "    <tr>\n",
       "      <th>251</th>\n",
       "      <td>2016-12-30</td>\n",
       "      <td>-0.019970</td>\n",
       "      <td>-0.011173</td>\n",
       "    </tr>\n",
       "  </tbody>\n",
       "</table>\n",
       "<p>252 rows × 3 columns</p>\n",
       "</div>"
      ],
      "text/plain": [
       "           Date    Amazon  Facebook\n",
       "0    2016-01-04       NaN       NaN\n",
       "1    2016-01-05 -0.005024  0.004989\n",
       "2    2016-01-06 -0.001799  0.002336\n",
       "3    2016-01-07 -0.039058 -0.049043\n",
       "4    2016-01-08 -0.001464 -0.006025\n",
       "..          ...       ...       ...\n",
       "247  2016-12-23 -0.007503 -0.001107\n",
       "248  2016-12-27  0.014213  0.006310\n",
       "249  2016-12-28  0.000946 -0.009237\n",
       "250  2016-12-29 -0.009040 -0.004875\n",
       "251  2016-12-30 -0.019970 -0.011173\n",
       "\n",
       "[252 rows x 3 columns]"
      ]
     },
     "execution_count": 9,
     "metadata": {},
     "output_type": "execute_result"
    }
   ],
   "source": [
    "#                      calculate daily stock_data returns\n",
    "# Create an empty array\n",
    "stock_returns = pd.DataFrame()\n",
    "\n",
    "stock_returns['Date'] = stock_data['Date']\n",
    "stock_returns['Amazon'] = stock_data['Amazon'].pct_change()\n",
    "stock_returns['Facebook'] = stock_data['Facebook'].pct_change()\n",
    "\n",
    "stock_returns"
   ]
  },
  {
   "cell_type": "code",
   "execution_count": 10,
   "id": "4fd87306",
   "metadata": {},
   "outputs": [
    {
     "data": {
      "text/plain": [
       "array([<AxesSubplot:>, <AxesSubplot:>], dtype=object)"
      ]
     },
     "execution_count": 10,
     "metadata": {},
     "output_type": "execute_result"
    },
    {
     "data": {
      "image/png": "[encoded data removed]",
      "text/plain": [
       "<Figure size 432x288 with 2 Axes>"
      ]
     },
     "metadata": {
      "needs_background": "light"
     },
     "output_type": "display_data"
    }
   ],
   "source": [
    "# Plot the daily returns\n",
    "stock_returns.plot(subplots=True, title='Stock Returns')"
   ]
  },
  {
   "cell_type": "code",
   "execution_count": 11,
   "id": "fc27bef2",
   "metadata": {},
   "outputs": [
    {
     "data": {
      "text/html": [
       "<div>\n",
       "<style scoped>\n",
       "    .dataframe tbody tr th:only-of-type {\n",
       "        vertical-align: middle;\n",
       "    }\n",
       "\n",
       "    .dataframe tbody tr th {\n",
       "        vertical-align: top;\n",
       "    }\n",
       "\n",
       "    .dataframe thead th {\n",
       "        text-align: right;\n",
       "    }\n",
       "</style>\n",
       "<table border=\"1\" class=\"dataframe\">\n",
       "  <thead>\n",
       "    <tr style=\"text-align: right;\">\n",
       "      <th></th>\n",
       "      <th>Amazon</th>\n",
       "      <th>Facebook</th>\n",
       "    </tr>\n",
       "  </thead>\n",
       "  <tbody>\n",
       "    <tr>\n",
       "      <th>count</th>\n",
       "      <td>251.000000</td>\n",
       "      <td>251.000000</td>\n",
       "    </tr>\n",
       "    <tr>\n",
       "      <th>mean</th>\n",
       "      <td>0.000818</td>\n",
       "      <td>0.000626</td>\n",
       "    </tr>\n",
       "    <tr>\n",
       "      <th>std</th>\n",
       "      <td>0.018383</td>\n",
       "      <td>0.017840</td>\n",
       "    </tr>\n",
       "    <tr>\n",
       "      <th>min</th>\n",
       "      <td>-0.076100</td>\n",
       "      <td>-0.058105</td>\n",
       "    </tr>\n",
       "    <tr>\n",
       "      <th>25%</th>\n",
       "      <td>-0.007211</td>\n",
       "      <td>-0.007220</td>\n",
       "    </tr>\n",
       "    <tr>\n",
       "      <th>50%</th>\n",
       "      <td>0.000857</td>\n",
       "      <td>0.000879</td>\n",
       "    </tr>\n",
       "    <tr>\n",
       "      <th>75%</th>\n",
       "      <td>0.009224</td>\n",
       "      <td>0.008108</td>\n",
       "    </tr>\n",
       "    <tr>\n",
       "      <th>max</th>\n",
       "      <td>0.095664</td>\n",
       "      <td>0.155214</td>\n",
       "    </tr>\n",
       "  </tbody>\n",
       "</table>\n",
       "</div>"
      ],
      "text/plain": [
       "           Amazon    Facebook\n",
       "count  251.000000  251.000000\n",
       "mean     0.000818    0.000626\n",
       "std      0.018383    0.017840\n",
       "min     -0.076100   -0.058105\n",
       "25%     -0.007211   -0.007220\n",
       "50%      0.000857    0.000879\n",
       "75%      0.009224    0.008108\n",
       "max      0.095664    0.155214"
      ]
     },
     "execution_count": 11,
     "metadata": {},
     "output_type": "execute_result"
    }
   ],
   "source": [
    "# summarize the daily returns\n",
    "stock_returns.describe()"
   ]
  },
  {
   "cell_type": "markdown",
   "id": "a0a52b7a",
   "metadata": {},
   "source": [
    "# 6. Daily S&P 500 returns\n",
    "For the S&P 500, calculating daily returns works just the same way, we just need to make sure we select it as a Series using single brackets [] and not as a DataFrame to facilitate the calculations in the next step."
   ]
  },
  {
   "cell_type": "code",
   "execution_count": 12,
   "id": "171d8f05",
   "metadata": {},
   "outputs": [
    {
     "data": {
      "text/html": [
       "<div>\n",
       "<style scoped>\n",
       "    .dataframe tbody tr th:only-of-type {\n",
       "        vertical-align: middle;\n",
       "    }\n",
       "\n",
       "    .dataframe tbody tr th {\n",
       "        vertical-align: top;\n",
       "    }\n",
       "\n",
       "    .dataframe thead th {\n",
       "        text-align: right;\n",
       "    }\n",
       "</style>\n",
       "<table border=\"1\" class=\"dataframe\">\n",
       "  <thead>\n",
       "    <tr style=\"text-align: right;\">\n",
       "      <th></th>\n",
       "      <th>Date</th>\n",
       "      <th>S&amp;P 500</th>\n",
       "    </tr>\n",
       "  </thead>\n",
       "  <tbody>\n",
       "    <tr>\n",
       "      <th>0</th>\n",
       "      <td>2016-01-01</td>\n",
       "      <td>NaN</td>\n",
       "    </tr>\n",
       "    <tr>\n",
       "      <th>1</th>\n",
       "      <td>2016-01-04</td>\n",
       "      <td>NaN</td>\n",
       "    </tr>\n",
       "    <tr>\n",
       "      <th>2</th>\n",
       "      <td>2016-01-05</td>\n",
       "      <td>0.002012</td>\n",
       "    </tr>\n",
       "    <tr>\n",
       "      <th>3</th>\n",
       "      <td>2016-01-06</td>\n",
       "      <td>-0.013115</td>\n",
       "    </tr>\n",
       "    <tr>\n",
       "      <th>4</th>\n",
       "      <td>2016-01-07</td>\n",
       "      <td>-0.023700</td>\n",
       "    </tr>\n",
       "    <tr>\n",
       "      <th>...</th>\n",
       "      <td>...</td>\n",
       "      <td>...</td>\n",
       "    </tr>\n",
       "    <tr>\n",
       "      <th>256</th>\n",
       "      <td>2016-12-26</td>\n",
       "      <td>0.000000</td>\n",
       "    </tr>\n",
       "    <tr>\n",
       "      <th>257</th>\n",
       "      <td>2016-12-27</td>\n",
       "      <td>0.002248</td>\n",
       "    </tr>\n",
       "    <tr>\n",
       "      <th>258</th>\n",
       "      <td>2016-12-28</td>\n",
       "      <td>-0.008357</td>\n",
       "    </tr>\n",
       "    <tr>\n",
       "      <th>259</th>\n",
       "      <td>2016-12-29</td>\n",
       "      <td>-0.000293</td>\n",
       "    </tr>\n",
       "    <tr>\n",
       "      <th>260</th>\n",
       "      <td>2016-12-30</td>\n",
       "      <td>-0.004637</td>\n",
       "    </tr>\n",
       "  </tbody>\n",
       "</table>\n",
       "<p>261 rows × 2 columns</p>\n",
       "</div>"
      ],
      "text/plain": [
       "           Date   S&P 500\n",
       "0    2016-01-01       NaN\n",
       "1    2016-01-04       NaN\n",
       "2    2016-01-05  0.002012\n",
       "3    2016-01-06 -0.013115\n",
       "4    2016-01-07 -0.023700\n",
       "..          ...       ...\n",
       "256  2016-12-26  0.000000\n",
       "257  2016-12-27  0.002248\n",
       "258  2016-12-28 -0.008357\n",
       "259  2016-12-29 -0.000293\n",
       "260  2016-12-30 -0.004637\n",
       "\n",
       "[261 rows x 2 columns]"
      ]
     },
     "execution_count": 12,
     "metadata": {},
     "output_type": "execute_result"
    }
   ],
   "source": [
    "#                      calculate daily S&P 500 returns\n",
    "# Create an empty array\n",
    "sp_returns = pd.DataFrame()\n",
    "\n",
    "# calculate the returns\n",
    "sp_returns['Date'] = benchmark_data['Date']\n",
    "sp_returns['S&P 500'] = benchmark_data['S&P 500'].pct_change()\n",
    "\n",
    "\n",
    "sp_returns"
   ]
  },
  {
   "cell_type": "code",
   "execution_count": 13,
   "id": "9f260b2a",
   "metadata": {},
   "outputs": [
    {
     "data": {
      "text/plain": [
       "array([<AxesSubplot:>], dtype=object)"
      ]
     },
     "execution_count": 13,
     "metadata": {},
     "output_type": "execute_result"
    },
    {
     "data": {
      "image/png": "[encoded data removed]",
      "text/plain": [
       "<Figure size 432x288 with 1 Axes>"
      ]
     },
     "metadata": {
      "needs_background": "light"
     },
     "output_type": "display_data"
    }
   ],
   "source": [
    "# Plot the daily returns\n",
    "sp_returns.plot(subplots=True, title='S&P 500 daily returns')"
   ]
  },
  {
   "cell_type": "code",
   "execution_count": 14,
   "id": "7730e7bd",
   "metadata": {},
   "outputs": [
    {
     "data": {
      "text/html": [
       "<div>\n",
       "<style scoped>\n",
       "    .dataframe tbody tr th:only-of-type {\n",
       "        vertical-align: middle;\n",
       "    }\n",
       "\n",
       "    .dataframe tbody tr th {\n",
       "        vertical-align: top;\n",
       "    }\n",
       "\n",
       "    .dataframe thead th {\n",
       "        text-align: right;\n",
       "    }\n",
       "</style>\n",
       "<table border=\"1\" class=\"dataframe\">\n",
       "  <thead>\n",
       "    <tr style=\"text-align: right;\">\n",
       "      <th></th>\n",
       "      <th>S&amp;P 500</th>\n",
       "    </tr>\n",
       "  </thead>\n",
       "  <tbody>\n",
       "    <tr>\n",
       "      <th>count</th>\n",
       "      <td>259.000000</td>\n",
       "    </tr>\n",
       "    <tr>\n",
       "      <th>mean</th>\n",
       "      <td>0.000444</td>\n",
       "    </tr>\n",
       "    <tr>\n",
       "      <th>std</th>\n",
       "      <td>0.008078</td>\n",
       "    </tr>\n",
       "    <tr>\n",
       "      <th>min</th>\n",
       "      <td>-0.035920</td>\n",
       "    </tr>\n",
       "    <tr>\n",
       "      <th>25%</th>\n",
       "      <td>-0.002802</td>\n",
       "    </tr>\n",
       "    <tr>\n",
       "      <th>50%</th>\n",
       "      <td>0.000135</td>\n",
       "    </tr>\n",
       "    <tr>\n",
       "      <th>75%</th>\n",
       "      <td>0.004378</td>\n",
       "    </tr>\n",
       "    <tr>\n",
       "      <th>max</th>\n",
       "      <td>0.024760</td>\n",
       "    </tr>\n",
       "  </tbody>\n",
       "</table>\n",
       "</div>"
      ],
      "text/plain": [
       "          S&P 500\n",
       "count  259.000000\n",
       "mean     0.000444\n",
       "std      0.008078\n",
       "min     -0.035920\n",
       "25%     -0.002802\n",
       "50%      0.000135\n",
       "75%      0.004378\n",
       "max      0.024760"
      ]
     },
     "execution_count": 14,
     "metadata": {},
     "output_type": "execute_result"
    }
   ],
   "source": [
    "# Summarize the S&P 500 daily returns\n",
    "sp_returns.describe()"
   ]
  },
  {
   "cell_type": "markdown",
   "id": "743d3e87",
   "metadata": {},
   "source": [
    "# 7. Calculating Excess Returns for Amazon and Facebook vs. S&P 500\n",
    "Next, we need to calculate the relative performance of stocks vs. the S&P 500 benchmark. This is calculated as the difference in returns between stock_returns and sp_returns for each day."
   ]
  },
  {
   "cell_type": "markdown",
   "id": "257aef2d",
   "metadata": {},
   "source": [
    "Next, we need to calculate the relative performance of stocks vs. the S&P 500 benchmark. This is calculated as the difference in returns between stock_returns and sp_returns for each day"
   ]
  },
  {
   "cell_type": "code",
   "execution_count": 15,
   "id": "2276c49c",
   "metadata": {},
   "outputs": [
    {
     "name": "stdout",
     "output_type": "stream",
     "text": [
      "           Date  Amazon Diff  Facebook Diff\n",
      "2    2016-01-06    -0.003811       0.000324\n",
      "3    2016-01-07    -0.025943      -0.035928\n",
      "4    2016-01-08     0.022236       0.017675\n",
      "5    2016-01-11     0.028448       0.012688\n",
      "6    2016-01-12    -0.000610       0.018222\n",
      "..          ...          ...            ...\n",
      "247  2016-12-23    -0.014043      -0.007647\n",
      "248  2016-12-27     0.022330       0.014427\n",
      "249  2016-12-28    -0.002937      -0.013120\n",
      "250  2016-12-29    -0.007289      -0.003124\n",
      "251  2016-12-30    -0.021945      -0.013148\n",
      "\n",
      "[250 rows x 3 columns]\n"
     ]
    }
   ],
   "source": [
    "excess_returns = pd.DataFrame()\n",
    "\n",
    "excess_returns['Date'] = stock_data['Date']\n",
    "excess_returns['Amazon Diff'] = stock_returns['Amazon'].sub(sp_returns['S&P 500'])\n",
    "excess_returns['Facebook Diff'] = stock_returns['Facebook'].sub(sp_returns['S&P 500'])\n",
    "\n",
    "excess_returns = excess_returns.dropna()\n",
    "\n",
    "print(excess_returns)"
   ]
  },
  {
   "cell_type": "code",
   "execution_count": 16,
   "id": "5b505c33",
   "metadata": {},
   "outputs": [
    {
     "data": {
      "text/plain": [
       "array([<AxesSubplot:>, <AxesSubplot:>], dtype=object)"
      ]
     },
     "execution_count": 16,
     "metadata": {},
     "output_type": "execute_result"
    },
    {
     "data": {
      "image/png": "[encoded data removed]",
      "text/plain": [
       "<Figure size 432x288 with 2 Axes>"
      ]
     },
     "metadata": {
      "needs_background": "light"
     },
     "output_type": "display_data"
    }
   ],
   "source": [
    "# Plot the excess returns\n",
    "excess_returns.plot(subplots=True, title='Difference from S&P 500 returns')\n"
   ]
  },
  {
   "cell_type": "code",
   "execution_count": 17,
   "id": "10125a65",
   "metadata": {},
   "outputs": [
    {
     "data": {
      "text/html": [
       "<div>\n",
       "<style scoped>\n",
       "    .dataframe tbody tr th:only-of-type {\n",
       "        vertical-align: middle;\n",
       "    }\n",
       "\n",
       "    .dataframe tbody tr th {\n",
       "        vertical-align: top;\n",
       "    }\n",
       "\n",
       "    .dataframe thead th {\n",
       "        text-align: right;\n",
       "    }\n",
       "</style>\n",
       "<table border=\"1\" class=\"dataframe\">\n",
       "  <thead>\n",
       "    <tr style=\"text-align: right;\">\n",
       "      <th></th>\n",
       "      <th>Amazon Diff</th>\n",
       "      <th>Facebook Diff</th>\n",
       "    </tr>\n",
       "  </thead>\n",
       "  <tbody>\n",
       "    <tr>\n",
       "      <th>count</th>\n",
       "      <td>250.000000</td>\n",
       "      <td>250.000000</td>\n",
       "    </tr>\n",
       "    <tr>\n",
       "      <th>mean</th>\n",
       "      <td>0.000340</td>\n",
       "      <td>0.000106</td>\n",
       "    </tr>\n",
       "    <tr>\n",
       "      <th>std</th>\n",
       "      <td>0.020052</td>\n",
       "      <td>0.018859</td>\n",
       "    </tr>\n",
       "    <tr>\n",
       "      <th>min</th>\n",
       "      <td>-0.068637</td>\n",
       "      <td>-0.063097</td>\n",
       "    </tr>\n",
       "    <tr>\n",
       "      <th>25%</th>\n",
       "      <td>-0.010075</td>\n",
       "      <td>-0.007665</td>\n",
       "    </tr>\n",
       "    <tr>\n",
       "      <th>50%</th>\n",
       "      <td>0.000106</td>\n",
       "      <td>-0.000845</td>\n",
       "    </tr>\n",
       "    <tr>\n",
       "      <th>75%</th>\n",
       "      <td>0.008596</td>\n",
       "      <td>0.007842</td>\n",
       "    </tr>\n",
       "    <tr>\n",
       "      <th>max</th>\n",
       "      <td>0.097477</td>\n",
       "      <td>0.141070</td>\n",
       "    </tr>\n",
       "  </tbody>\n",
       "</table>\n",
       "</div>"
      ],
      "text/plain": [
       "       Amazon Diff  Facebook Diff\n",
       "count   250.000000     250.000000\n",
       "mean      0.000340       0.000106\n",
       "std       0.020052       0.018859\n",
       "min      -0.068637      -0.063097\n",
       "25%      -0.010075      -0.007665\n",
       "50%       0.000106      -0.000845\n",
       "75%       0.008596       0.007842\n",
       "max       0.097477       0.141070"
      ]
     },
     "execution_count": 17,
     "metadata": {},
     "output_type": "execute_result"
    }
   ],
   "source": [
    "# Summarize the difference in returns\n",
    "excess_returns.describe()"
   ]
  },
  {
   "cell_type": "markdown",
   "id": "6ed7390a",
   "metadata": {},
   "source": [
    "# 8. The Sharpe Ratio, Step 1: The Average Difference in Daily Returns Stocks vs S&P 500\n",
    "Now we can finally start computing the Sharpe Ratio. First we need to calculate the average of the excess_returns. This tells us how much more or less the investment yields per day compared to the benchmark."
   ]
  },
  {
   "cell_type": "code",
   "execution_count": 20,
   "id": "87ee79b7",
   "metadata": {},
   "outputs": [
    {
     "name": "stderr",
     "output_type": "stream",
     "text": [
      "c:\\users\\cresp\\pycharmprojects\\dataanalysisprojects\\venv\\lib\\site-packages\\ipykernel_launcher.py:2: FutureWarning: Dropping of nuisance columns in DataFrame reductions (with 'numeric_only=None') is deprecated; in a future version this will raise TypeError.  Select only valid columns before calling the reduction.\n",
      "  \n"
     ]
    },
    {
     "data": {
      "text/plain": [
       "Amazon Diff      0.000340\n",
       "Facebook Diff    0.000106\n",
       "dtype: float64"
      ]
     },
     "execution_count": 20,
     "metadata": {},
     "output_type": "execute_result"
    }
   ],
   "source": [
    "# calculate the mean of excess_returns \n",
    "avg_excess_return = excess_returns.mean()\n",
    "\n",
    "avg_excess_return"
   ]
  },
  {
   "cell_type": "code",
   "execution_count": 19,
   "id": "27679e81",
   "metadata": {},
   "outputs": [],
   "source": [
    "# plot avg_excess_returns\n",
    "# ... YOUR CODE FOR TASK 8 HERE ..."
   ]
  },
  {
   "cell_type": "code",
   "execution_count": 23,
   "id": "2b5da3f7",
   "metadata": {},
   "outputs": [
    {
     "data": {
      "text/plain": [
       "<AxesSubplot:title={'center':'Mean of the Return Difference'}>"
      ]
     },
     "execution_count": 23,
     "metadata": {},
     "output_type": "execute_result"
    },
    {
     "data": {
      "image/png": "[encoded data removed]",
      "text/plain": [
       "<Figure size 432x288 with 1 Axes>"
      ]
     },
     "metadata": {
      "needs_background": "light"
     },
     "output_type": "display_data"
    }
   ],
   "source": [
    "# plot avg_excess_returns\n",
    "avg_excess_return.plot.bar(title='Mean of the Return Difference')"
   ]
  },
  {
   "cell_type": "markdown",
   "id": "541fe0a5",
   "metadata": {},
   "source": [
    "# 9. The Sharpe Ratio, Step 2: Standard Deviation of the Return Difference\n",
    "It looks like there was quite a bit of a difference between average daily returns for Amazon and Facebook.\n",
    "\n",
    "Next, we calculate the standard deviation of the excess_returns. This shows us the amount of risk an investment in the stocks implies as compared to an investment in the S&P 500."
   ]
  },
  {
   "cell_type": "code",
   "execution_count": 24,
   "id": "8c5fdc54",
   "metadata": {},
   "outputs": [
    {
     "name": "stderr",
     "output_type": "stream",
     "text": [
      "c:\\users\\cresp\\pycharmprojects\\dataanalysisprojects\\venv\\lib\\site-packages\\ipykernel_launcher.py:2: FutureWarning: Dropping of nuisance columns in DataFrame reductions (with 'numeric_only=None') is deprecated; in a future version this will raise TypeError.  Select only valid columns before calling the reduction.\n",
      "  \n"
     ]
    },
    {
     "data": {
      "text/plain": [
       "Amazon Diff      0.020052\n",
       "Facebook Diff    0.018859\n",
       "dtype: float64"
      ]
     },
     "execution_count": 24,
     "metadata": {},
     "output_type": "execute_result"
    }
   ],
   "source": [
    "# calculate the standard deviations\n",
    "sd_excess_return = excess_returns.std()\n",
    "\n",
    "sd_excess_return"
   ]
  },
  {
   "cell_type": "code",
   "execution_count": 25,
   "id": "88336166",
   "metadata": {},
   "outputs": [
    {
     "data": {
      "text/plain": [
       "<AxesSubplot:title={'center':'Standard Deviation of the Return Difference'}>"
      ]
     },
     "execution_count": 25,
     "metadata": {},
     "output_type": "execute_result"
    },
    {
     "data": {
      "image/png": "[encoded data removed]",
      "text/plain": [
       "<Figure size 432x288 with 1 Axes>"
      ]
     },
     "metadata": {
      "needs_background": "light"
     },
     "output_type": "display_data"
    }
   ],
   "source": [
    "# plot the standard deviations\n",
    "sd_excess_return.plot.bar(title='Standard Deviation of the Return Difference')"
   ]
  },
  {
   "cell_type": "markdown",
   "id": "93871b3c",
   "metadata": {},
   "source": [
    "# 10. Putting it all together\n",
    "Now we just need to compute the ratio of avg_excess_returns and sd_excess_returns. The result is now finally the Sharpe ratio and indicates how much more (or less) return the investment opportunity under consideration yields per unit of risk.\n",
    "\n",
    "The Sharpe Ratio is often annualized by multiplying it by the square root of the number of periods. We have used daily data as input, so we'll use the square root of the number of trading days (5 days, 52 weeks, minus a few holidays): √252"
   ]
  },
  {
   "cell_type": "code",
   "execution_count": 26,
   "id": "63e34937",
   "metadata": {},
   "outputs": [
    {
     "data": {
      "text/plain": [
       "Amazon Diff      0.016933\n",
       "Facebook Diff    0.005644\n",
       "dtype: float64"
      ]
     },
     "execution_count": 26,
     "metadata": {},
     "output_type": "execute_result"
    }
   ],
   "source": [
    "# calculate the daily sharpe ratio\n",
    "daily_sharpe_ratio = avg_excess_return.div(sd_excess_return)\n",
    "\n",
    "daily_sharpe_ratio"
   ]
  },
  {
   "cell_type": "code",
   "execution_count": 27,
   "id": "b4ae4703",
   "metadata": {},
   "outputs": [],
   "source": [
    "# annualize the sharpe ratio\n",
    "annual_factor = np.sqrt(252)\n",
    "annual_sharpe_ratio = daily_sharpe_ratio.mul(annual_factor)"
   ]
  },
  {
   "cell_type": "code",
   "execution_count": 28,
   "id": "740dd3aa",
   "metadata": {},
   "outputs": [
    {
     "data": {
      "text/plain": [
       "Amazon Diff      0.268807\n",
       "Facebook Diff    0.089595\n",
       "dtype: float64"
      ]
     },
     "execution_count": 28,
     "metadata": {},
     "output_type": "execute_result"
    }
   ],
   "source": [
    "annual_sharpe_ratio"
   ]
  },
  {
   "cell_type": "markdown",
   "id": "ae93a9a3",
   "metadata": {},
   "source": [
    "11. Conclusion\n",
    "Given the two Sharpe ratios, which investment should we go for? In 2016, Amazon had a Sharpe ratio twice as high as Facebook. This means that an investment in Amazon returned twice as much compared to the S&P 500 for each unit of risk an investor would have assumed. In other words, in risk-adjusted terms, the investment in Amazon would have been more attractive.\n",
    "\n",
    "This difference was mostly driven by differences in return rather than risk between Amazon and Facebook. The risk of choosing Amazon over FB (as measured by the standard deviation) was only slightly higher so that the higher Sharpe ratio for Amazon ends up higher mainly due to the higher average daily returns for Amazon.\n",
    "\n",
    "When faced with investment alternatives that offer both different returns and risks, the Sharpe Ratio helps to make a decision by adjusting the returns by the differences in risk and allows an investor to compare investment opportunities on equal terms, that is, on an 'apples-to-apples' basis"
   ]
  }
 ],
 "metadata": {
  "kernelspec": {
   "display_name": "Python 3 (ipykernel)",
   "language": "python",
   "name": "python3"
  },
  "language_info": {
   "codemirror_mode": {
    "name": "ipython",
    "version": 3
   },
   "file_extension": ".py",
   "mimetype": "text/x-python",
   "name": "python",
   "nbconvert_exporter": "python",
   "pygments_lexer": "ipython3",
   "version": "3.7.8"
  }
 },
 "nbformat": 4,
 "nbformat_minor": 5
}
